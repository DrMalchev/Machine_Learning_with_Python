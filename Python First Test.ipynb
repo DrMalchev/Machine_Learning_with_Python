{
 "cells": [
  {
   "cell_type": "code",
   "execution_count": 1,
   "id": "2394b8ec",
   "metadata": {},
   "outputs": [],
   "source": [
    "name=\"edureka\"\n",
    "subscribers=70000"
   ]
  },
  {
   "cell_type": "code",
   "execution_count": 4,
   "id": "e07761ac",
   "metadata": {},
   "outputs": [
    {
     "name": "stdout",
     "output_type": "stream",
     "text": [
      "edureka has 70000 YouTube subsribers now.\n"
     ]
    }
   ],
   "source": [
    "print(name + \" has \" + str(subscribers) + \" YouTube subsribers now.\")"
   ]
  },
  {
   "cell_type": "code",
   "execution_count": null,
   "id": "fa61ba70",
   "metadata": {},
   "outputs": [],
   "source": []
  }
 ],
 "metadata": {
  "kernelspec": {
   "display_name": "Python 3",
   "language": "python",
   "name": "python3"
  },
  "language_info": {
   "codemirror_mode": {
    "name": "ipython",
    "version": 3
   },
   "file_extension": ".py",
   "mimetype": "text/x-python",
   "name": "python",
   "nbconvert_exporter": "python",
   "pygments_lexer": "ipython3",
   "version": "3.8.8"
  }
 },
 "nbformat": 4,
 "nbformat_minor": 5
}
