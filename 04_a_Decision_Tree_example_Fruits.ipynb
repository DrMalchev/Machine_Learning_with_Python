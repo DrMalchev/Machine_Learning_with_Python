{
 "cells": [
  {
   "cell_type": "code",
   "execution_count": 59,
   "id": "a98c3b36",
   "metadata": {},
   "outputs": [],
   "source": [
    "training_data = [\n",
    "    ['Green', 3, 'Mango'],\n",
    "    ['Yellow', 3, 'Mango'],\n",
    "    ['Red', 1, 'Grape'],\n",
    "    ['Red', 1, 'Grape'],\n",
    "    ['Yellow', 3, 'Lemon']\n",
    "]\n",
    "\n",
    "header = [\"color\", \"diameter\", \"label\"]"
   ]
  },
  {
   "cell_type": "code",
   "execution_count": 60,
   "id": "abea51bf",
   "metadata": {},
   "outputs": [],
   "source": [
    "def unique_values(rows, cols):\n",
    "    return set([row(col) for row in rows])"
   ]
  },
  {
   "cell_type": "code",
   "execution_count": 61,
   "id": "bd251f68",
   "metadata": {},
   "outputs": [],
   "source": [
    "def class_counts(rows):\n",
    "   # \"\"\"\"Counts the number of each type of example in a dataset.\"\"\"\"\n",
    "    counts={} # a dictionary of label -> count\n",
    "    for row in rows:\n",
    "        label=row[-1]\n",
    "        if label not in counts:\n",
    "            counts[label]=0\n",
    "        counts[label]+=1\n",
    "    return counts\n",
    "        \n"
   ]
  },
  {
   "cell_type": "code",
   "execution_count": 62,
   "id": "bba7a12b",
   "metadata": {},
   "outputs": [],
   "source": [
    "def is_numeric(value):\n",
    "    # test if value is numeric\n",
    "    return isinstance(value, int) or isinstance(value, float)\n"
   ]
  },
  {
   "cell_type": "code",
   "execution_count": 63,
   "id": "e939e747",
   "metadata": {},
   "outputs": [],
   "source": [
    "class Question:\n",
    "    # A question is used to partitian the dataset\n",
    "    \n",
    "    def __init__(self, column, value):\n",
    "        self.column = column\n",
    "        self.value = value\n",
    "    \n",
    "    def match(self, example):\n",
    "        # compare the feature value in an example\n",
    "        # to the feature value in this question\n",
    "        val = example[self.column]\n",
    "        if is_numeric(val):\n",
    "            return val>= self.value\n",
    "    \n",
    "    def __repr__(self):\n",
    "        # helper method to print the question\n",
    "        condition = \"==\"\n",
    "        if is_numeric(self.value):\n",
    "            condition = \">=\"\n",
    "        return \"Is %s %s %s?\" % (\n",
    "        header[self.column], condition, str(self.value)\n",
    "        )\n",
    "    "
   ]
  },
  {
   "cell_type": "code",
   "execution_count": 64,
   "id": "2b4500ec",
   "metadata": {},
   "outputs": [],
   "source": [
    "def partition(rows, question):\n",
    "    # partitions a dataset\n",
    "    # for each row in the dataset check if it matches the question\n",
    "    # If so, add it to \"true rows\", otherwise add it to \"false rows\"\n",
    "    \n",
    "    true_rows, false_rows = [],[]\n",
    "    for row in rows:\n",
    "        if question.match(row):\n",
    "            true_rows.append(row)\n",
    "        else:\n",
    "            false_rows.append(row)\n",
    "    return true_rows, false_rows"
   ]
  },
  {
   "cell_type": "code",
   "execution_count": 65,
   "id": "c12d4b8b",
   "metadata": {},
   "outputs": [],
   "source": [
    "def gini(rows):\n",
    "    # calc the gini impurity for a list of rows\n",
    "    counts = class_counts(rows)\n",
    "    impurity = 1\n",
    "    for lbl in counts:\n",
    "        prob_of_lbl = counts[lbl] / float(len(rows))\n",
    "        impurity -= prob_of_lbl**2\n",
    "    return impurity"
   ]
  },
  {
   "cell_type": "code",
   "execution_count": 66,
   "id": "8f12b649",
   "metadata": {},
   "outputs": [],
   "source": [
    "def info_gain(left, right, current_uncertainty):\n",
    "    # the uncertainty of the the starter node minus the weighted impurity\n",
    "    # of the child nodes\n",
    "    p= float(len(left)) /(len(left)+len(right))\n",
    "    return current_uncertainty - p*gini(left) - (1-p)*gini(right)"
   ]
  },
  {
   "cell_type": "code",
   "execution_count": 67,
   "id": "b0fdde23",
   "metadata": {},
   "outputs": [],
   "source": [
    "def find_best_split(rows):\n",
    "    \"\"\"Find the best question to ask by iterating over every feature / value\n",
    "    and calculating the information gain.\"\"\"\n",
    "    best_gain = 0  # keep track of the best information gain\n",
    "    best_question = None  # keep train of the feature / value that produced it\n",
    "    current_uncertainty = gini(rows)\n",
    "    n_features = len(rows[0]) - 1  # number of columns\n",
    "\n",
    "    for col in range(n_features):  # for each feature\n",
    "\n",
    "        values = set([row[col] for row in rows])  # unique values in the column\n",
    "\n",
    "        for val in values:  # for each value\n",
    "\n",
    "            question = Question(col, val)\n",
    "\n",
    "            # try splitting the dataset\n",
    "            true_rows, false_rows = partition(rows, question)\n",
    "\n",
    "            # Skip this split if it doesn't divide the\n",
    "            # dataset.\n",
    "            if len(true_rows) == 0 or len(false_rows) == 0:\n",
    "                continue\n",
    "\n",
    "            # Calculate the information gain from this split\n",
    "            gain = info_gain(true_rows, false_rows, current_uncertainty)\n",
    "\n",
    "            # You actually can use '>' instead of '>=' here\n",
    "            # but I wanted the tree to look a certain way for our\n",
    "            # toy dataset.\n",
    "            if gain >= best_gain:\n",
    "                best_gain, best_question = gain, question\n",
    "\n",
    "    return best_gain, best_question\n"
   ]
  },
  {
   "cell_type": "code",
   "execution_count": 68,
   "id": "2c193f54",
   "metadata": {},
   "outputs": [],
   "source": [
    "class Leaf:\n",
    "    # A leaf node classifies data\n",
    "    def __init__(self, rows):\n",
    "        self.predictions = class_counts(rows)\n",
    "\n",
    "class Decision_Node:\n",
    "    # a decision node asks a question\n",
    "    def __init__(self, question, true_branch, false_branch):\n",
    "        self.question = question\n",
    "        self.true_branch = true_branch\n",
    "        self.false_branch = false_branch"
   ]
  },
  {
   "cell_type": "code",
   "execution_count": 69,
   "id": "ab335740",
   "metadata": {},
   "outputs": [],
   "source": [
    "def build_tree(rows):\n",
    "    # try partitioning the dataset on each unique attribute\n",
    "    # calc the information gain\n",
    "    # and return the question that produces the highest information gain.\n",
    "    gain, question = find_best_split(rows)\n",
    "    if gain == 0:\n",
    "        return Leaf(rows)\n",
    "    true_rows, false_rows = partition(rows, question)\n",
    "    \n",
    "    true_branch = build_tree(true_rows)\n",
    "    false_branch = build_tree(false_rows)\n",
    "    \n",
    "    return Decision_Node(question, true_branch, false_branch)\n",
    "\n",
    "def print_tree(node, spacing=\"\"):\n",
    "    if isinstance(node, Leaf):\n",
    "        print(spacing + \"Predict\", node.predictions)\n",
    "    return\n",
    "    \n",
    "    # print the qestion at this node\n",
    "    print(spacing + str(node.question))\n",
    "    \n",
    "    print(spacing + \"-> True:\")\n",
    "    print_tree(node.true_branch, spacing + \" \")\n",
    "    \n",
    "    print(spacing + \"-> False:\")\n",
    "    print_tree(node.false_branch, spacing + \" \")"
   ]
  },
  {
   "cell_type": "code",
   "execution_count": 73,
   "id": "ea1b23c1",
   "metadata": {},
   "outputs": [],
   "source": [
    "def classify(row, node):\n",
    "    \"\"\"See the 'rules of recursion' above.\"\"\"\n",
    "\n",
    "    # Base case: we've reached a leaf\n",
    "    if isinstance(node, Leaf):\n",
    "        return node.predictions\n",
    "\n",
    "    # Decide whether to follow the true-branch or the false-branch.\n",
    "    # Compare the feature / value stored in the node,\n",
    "    # to the example we're considering.\n",
    "    if node.question.match(row):\n",
    "        return classify(row, node.true_branch)\n",
    "    else:\n",
    "        return classify(row, node.false_branch)\n"
   ]
  },
  {
   "cell_type": "code",
   "execution_count": 74,
   "id": "2abeb76e",
   "metadata": {},
   "outputs": [],
   "source": [
    "def print_leaf(counts):\n",
    "    \"\"\"A nicer way to print the predictions at a leaf.\"\"\"\n",
    "    total = sum(counts.values()) * 1.0\n",
    "    probs = {}\n",
    "    for lbl in counts.keys():\n",
    "        probs[lbl] = str(int(counts[lbl] / total * 100)) + \"%\"\n",
    "    return probs\n"
   ]
  },
  {
   "cell_type": "code",
   "execution_count": 75,
   "id": "eee1119c",
   "metadata": {},
   "outputs": [
    {
     "name": "stdout",
     "output_type": "stream",
     "text": [
      "Actual: Apple. Predicted: {'Mango': '66%', 'Lemon': '33%'}\n",
      "Actual: Apple. Predicted: {'Mango': '66%', 'Lemon': '33%'}\n",
      "Actual: Grape. Predicted: {'Grape': '100%'}\n",
      "Actual: Grape. Predicted: {'Grape': '100%'}\n",
      "Actual: Lemon. Predicted: {'Mango': '66%', 'Lemon': '33%'}\n"
     ]
    }
   ],
   "source": [
    "if __name__ == '__main__':\n",
    "\n",
    "    my_tree = build_tree(training_data)\n",
    "\n",
    "    print_tree(my_tree)\n",
    "\n",
    "    # Evaluate\n",
    "    testing_data = [\n",
    "        ['Green', 3, 'Apple'],\n",
    "        ['Yellow', 4, 'Apple'],\n",
    "        ['Red', 2, 'Grape'],\n",
    "        ['Red', 1, 'Grape'],\n",
    "        ['Yellow', 3, 'Lemon'],\n",
    "    ]\n",
    "\n",
    "    for row in testing_data:\n",
    "        print (\"Actual: %s. Predicted: %s\" %\n",
    "               (row[-1], print_leaf(classify(row, my_tree))))"
   ]
  },
  {
   "cell_type": "code",
   "execution_count": null,
   "id": "4a53ec34",
   "metadata": {},
   "outputs": [],
   "source": []
  },
  {
   "cell_type": "code",
   "execution_count": null,
   "id": "2a66fc9e",
   "metadata": {},
   "outputs": [],
   "source": []
  }
 ],
 "metadata": {
  "kernelspec": {
   "display_name": "Python 3",
   "language": "python",
   "name": "python3"
  },
  "language_info": {
   "codemirror_mode": {
    "name": "ipython",
    "version": 3
   },
   "file_extension": ".py",
   "mimetype": "text/x-python",
   "name": "python",
   "nbconvert_exporter": "python",
   "pygments_lexer": "ipython3",
   "version": "3.8.8"
  }
 },
 "nbformat": 4,
 "nbformat_minor": 5
}
