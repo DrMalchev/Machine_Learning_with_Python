{
 "cells": [
  {
   "cell_type": "code",
   "execution_count": 1,
   "id": "06598a91",
   "metadata": {},
   "outputs": [],
   "source": [
    "#pandas test\n",
    "from sklearn import datasets\n"
   ]
  },
  {
   "cell_type": "code",
   "execution_count": 2,
   "id": "c3cd1c3b",
   "metadata": {},
   "outputs": [],
   "source": [
    "iris_dataset = datasets.load_iris()"
   ]
  },
  {
   "cell_type": "code",
   "execution_count": 16,
   "id": "addac4b2",
   "metadata": {},
   "outputs": [],
   "source": [
    "X = iris_dataset.data[:,:2]"
   ]
  },
  {
   "cell_type": "code",
   "execution_count": 19,
   "id": "1ce8b55e",
   "metadata": {},
   "outputs": [],
   "source": [
    "x_count = len(X.flat)"
   ]
  },
  {
   "cell_type": "code",
   "execution_count": 20,
   "id": "ec2b4666",
   "metadata": {},
   "outputs": [],
   "source": [
    "x_min = X[:,0].min() - 0.5\n",
    "x_max = X[:,0].max() + 0.5\n",
    "x_mean = X[:,0].mean()"
   ]
  },
  {
   "cell_type": "code",
   "execution_count": 22,
   "id": "a30d9e1f",
   "metadata": {},
   "outputs": [
    {
     "data": {
      "text/plain": [
       "(300, 3.8, 8.4, 5.843333333333334)"
      ]
     },
     "execution_count": 22,
     "metadata": {},
     "output_type": "execute_result"
    }
   ],
   "source": [
    "\n",
    "x_count, x_min, x_max, x_mean"
   ]
  },
  {
   "cell_type": "code",
   "execution_count": null,
   "id": "e7d7ad57",
   "metadata": {},
   "outputs": [],
   "source": []
  }
 ],
 "metadata": {
  "kernelspec": {
   "display_name": "Python 3",
   "language": "python",
   "name": "python3"
  },
  "language_info": {
   "codemirror_mode": {
    "name": "ipython",
    "version": 3
   },
   "file_extension": ".py",
   "mimetype": "text/x-python",
   "name": "python",
   "nbconvert_exporter": "python",
   "pygments_lexer": "ipython3",
   "version": "3.8.8"
  }
 },
 "nbformat": 4,
 "nbformat_minor": 5
}
