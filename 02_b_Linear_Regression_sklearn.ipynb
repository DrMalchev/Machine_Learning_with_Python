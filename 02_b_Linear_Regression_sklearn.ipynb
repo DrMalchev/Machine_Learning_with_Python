{
 "cells": [
  {
   "cell_type": "code",
   "execution_count": 5,
   "id": "13b933e5",
   "metadata": {},
   "outputs": [
    {
     "name": "stdout",
     "output_type": "stream",
     "text": [
      "72.1206213783709\n",
      "0.639311719957\n"
     ]
    }
   ],
   "source": [
    "# Linear Regression excercise with sklearn\n",
    "\n",
    "from sklearn.linear_model import LinearRegression\n",
    "from sklearn.metrics import mean_squared_error\n",
    "\n",
    "#Reading data\n",
    "import numpy as np\n",
    "import pandas as pd\n",
    "data = pd.read_csv('headbrain.csv')\n",
    "x = data['Head Size(cm^3)'].values\n",
    "y = data['Brain Weight(grams)'].values\n",
    "n = len(x)\n",
    "\n",
    "# cannot use 1D array => reshape\n",
    "x=x.reshape((n,1))\n",
    "\n",
    "# model create\n",
    "reg = LinearRegression()\n",
    "\n",
    "#fit training data\n",
    "reg = reg.fit(x,y)\n",
    "y_pred = reg.predict(x)\n",
    "\n",
    "# calc rms error and r2\n",
    "rmse = np.sqrt(mean_squared_error(y,y_pred))\n",
    "r2=reg.score(x,y)\n",
    "\n",
    "print(rmse)\n",
    "print(r2)"
   ]
  },
  {
   "cell_type": "code",
   "execution_count": null,
   "id": "90220a4c",
   "metadata": {},
   "outputs": [],
   "source": []
  }
 ],
 "metadata": {
  "kernelspec": {
   "display_name": "Python 3",
   "language": "python",
   "name": "python3"
  },
  "language_info": {
   "codemirror_mode": {
    "name": "ipython",
    "version": 3
   },
   "file_extension": ".py",
   "mimetype": "text/x-python",
   "name": "python",
   "nbconvert_exporter": "python",
   "pygments_lexer": "ipython3",
   "version": "3.8.8"
  }
 },
 "nbformat": 4,
 "nbformat_minor": 5
}
